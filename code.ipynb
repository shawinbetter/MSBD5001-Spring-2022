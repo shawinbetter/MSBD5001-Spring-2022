{
 "cells": [
  {
   "cell_type": "markdown",
   "id": "a649cf0e-972c-4988-8615-1d042689a0cd",
   "metadata": {},
   "source": [
    "### Import Packages"
   ]
  },
  {
   "cell_type": "code",
   "execution_count": 1,
   "id": "ddab2322-7b54-4aa2-9395-29c2d1c0d6a2",
   "metadata": {},
   "outputs": [],
   "source": [
    "import warnings\n",
    "warnings.filterwarnings(\"ignore\")\n",
    "\n",
    "import pandas as pd\n",
    "import numpy as np\n",
    "import matplotlib.pyplot as plt\n",
    "from imblearn.over_sampling import SMOTE\n",
    "from sklearn.preprocessing import StandardScaler,MinMaxScaler\n",
    "from sklearn.ensemble import RandomForestClassifier\n",
    "from xgboost.sklearn import XGBClassifier\n",
    "from sklearn.model_selection import GridSearchCV\n",
    "from sklearn.metrics import classification_report,roc_auc_score,accuracy_score\n",
    "import time"
   ]
  },
  {
   "cell_type": "markdown",
   "id": "b0f3d7d1-d329-47b2-8962-768e4e9e46db",
   "metadata": {},
   "source": [
    "### Define Paths"
   ]
  },
  {
   "cell_type": "code",
   "execution_count": 2,
   "id": "471bdedf-ac8c-4ce3-a0a0-53d9ef40af40",
   "metadata": {},
   "outputs": [],
   "source": [
    "train_dir = 'train.csv'\n",
    "test_dir = 'test.csv'\n",
    "submission_dir = 'submission.csv'"
   ]
  },
  {
   "cell_type": "markdown",
   "id": "d1d4eaec-2625-4eb5-8718-43fa97073539",
   "metadata": {},
   "source": [
    "### Read data"
   ]
  },
  {
   "cell_type": "code",
   "execution_count": 3,
   "id": "31840fc3-2ba7-4e0e-817c-f5796dc62e72",
   "metadata": {},
   "outputs": [
    {
     "data": {
      "text/html": [
       "<div>\n",
       "<style scoped>\n",
       "    .dataframe tbody tr th:only-of-type {\n",
       "        vertical-align: middle;\n",
       "    }\n",
       "\n",
       "    .dataframe tbody tr th {\n",
       "        vertical-align: top;\n",
       "    }\n",
       "\n",
       "    .dataframe thead th {\n",
       "        text-align: right;\n",
       "    }\n",
       "</style>\n",
       "<table border=\"1\" class=\"dataframe\">\n",
       "  <thead>\n",
       "    <tr style=\"text-align: right;\">\n",
       "      <th></th>\n",
       "      <th>id</th>\n",
       "      <th>MO HLADR+ MFI (cells/ul)</th>\n",
       "      <th>Neu CD64+MFI (cells/ul)</th>\n",
       "      <th>CD3+T (cells/ul)</th>\n",
       "      <th>CD8+T (cells/ul)</th>\n",
       "      <th>CD4+T (cells/ul)</th>\n",
       "      <th>NK (cells/ul)</th>\n",
       "      <th>CD19+ (cells/ul)</th>\n",
       "      <th>CD45+ (cells/ul)</th>\n",
       "      <th>Age</th>\n",
       "      <th>Sex 0M1F</th>\n",
       "      <th>Mono CD64+MFI (cells/ul)</th>\n",
       "      <th>label</th>\n",
       "    </tr>\n",
       "  </thead>\n",
       "  <tbody>\n",
       "    <tr>\n",
       "      <th>0</th>\n",
       "      <td>0</td>\n",
       "      <td>3556.0</td>\n",
       "      <td>2489.0</td>\n",
       "      <td>265.19</td>\n",
       "      <td>77.53</td>\n",
       "      <td>176.55</td>\n",
       "      <td>0.00</td>\n",
       "      <td>4.20</td>\n",
       "      <td>307.91</td>\n",
       "      <td>52</td>\n",
       "      <td>0</td>\n",
       "      <td>7515.0</td>\n",
       "      <td>1</td>\n",
       "    </tr>\n",
       "    <tr>\n",
       "      <th>1</th>\n",
       "      <td>1</td>\n",
       "      <td>1906.0</td>\n",
       "      <td>134.0</td>\n",
       "      <td>1442.61</td>\n",
       "      <td>551.90</td>\n",
       "      <td>876.07</td>\n",
       "      <td>112.10</td>\n",
       "      <td>168.15</td>\n",
       "      <td>1735.48</td>\n",
       "      <td>20</td>\n",
       "      <td>1</td>\n",
       "      <td>1756.0</td>\n",
       "      <td>0</td>\n",
       "    </tr>\n",
       "    <tr>\n",
       "      <th>2</th>\n",
       "      <td>2</td>\n",
       "      <td>1586.0</td>\n",
       "      <td>71.0</td>\n",
       "      <td>1332.74</td>\n",
       "      <td>684.20</td>\n",
       "      <td>655.26</td>\n",
       "      <td>244.95</td>\n",
       "      <td>216.52</td>\n",
       "      <td>1820.04</td>\n",
       "      <td>28</td>\n",
       "      <td>1</td>\n",
       "      <td>1311.0</td>\n",
       "      <td>0</td>\n",
       "    </tr>\n",
       "    <tr>\n",
       "      <th>3</th>\n",
       "      <td>3</td>\n",
       "      <td>683.0</td>\n",
       "      <td>94.0</td>\n",
       "      <td>419.23</td>\n",
       "      <td>255.80</td>\n",
       "      <td>162.17</td>\n",
       "      <td>72.05</td>\n",
       "      <td>44.68</td>\n",
       "      <td>538.22</td>\n",
       "      <td>55</td>\n",
       "      <td>1</td>\n",
       "      <td>1443.0</td>\n",
       "      <td>0</td>\n",
       "    </tr>\n",
       "    <tr>\n",
       "      <th>4</th>\n",
       "      <td>4</td>\n",
       "      <td>1032.0</td>\n",
       "      <td>71.0</td>\n",
       "      <td>1102.72</td>\n",
       "      <td>480.27</td>\n",
       "      <td>625.30</td>\n",
       "      <td>188.78</td>\n",
       "      <td>130.77</td>\n",
       "      <td>1427.97</td>\n",
       "      <td>28</td>\n",
       "      <td>1</td>\n",
       "      <td>1542.0</td>\n",
       "      <td>0</td>\n",
       "    </tr>\n",
       "  </tbody>\n",
       "</table>\n",
       "</div>"
      ],
      "text/plain": [
       "   id  MO HLADR+ MFI (cells/ul)  Neu CD64+MFI (cells/ul)  CD3+T (cells/ul)  \\\n",
       "0   0                    3556.0                   2489.0            265.19   \n",
       "1   1                    1906.0                    134.0           1442.61   \n",
       "2   2                    1586.0                     71.0           1332.74   \n",
       "3   3                     683.0                     94.0            419.23   \n",
       "4   4                    1032.0                     71.0           1102.72   \n",
       "\n",
       "   CD8+T (cells/ul)  CD4+T (cells/ul)  NK (cells/ul)  CD19+ (cells/ul)  \\\n",
       "0             77.53            176.55           0.00              4.20   \n",
       "1            551.90            876.07         112.10            168.15   \n",
       "2            684.20            655.26         244.95            216.52   \n",
       "3            255.80            162.17          72.05             44.68   \n",
       "4            480.27            625.30         188.78            130.77   \n",
       "\n",
       "   CD45+ (cells/ul)  Age  Sex 0M1F  Mono CD64+MFI (cells/ul)  label  \n",
       "0            307.91   52         0                    7515.0      1  \n",
       "1           1735.48   20         1                    1756.0      0  \n",
       "2           1820.04   28         1                    1311.0      0  \n",
       "3            538.22   55         1                    1443.0      0  \n",
       "4           1427.97   28         1                    1542.0      0  "
      ]
     },
     "execution_count": 3,
     "metadata": {},
     "output_type": "execute_result"
    }
   ],
   "source": [
    "train = pd.read_csv(train_dir)\n",
    "test = pd.read_csv(test_dir)\n",
    "train.head()"
   ]
  },
  {
   "cell_type": "markdown",
   "id": "3d0bc1fa-9718-4c4b-8890-6fc5bb306ed7",
   "metadata": {},
   "source": [
    "### Fill Missing Value"
   ]
  },
  {
   "cell_type": "code",
   "execution_count": 4,
   "id": "b110f94b-c434-4d7b-aef8-3bd35efbb90d",
   "metadata": {},
   "outputs": [],
   "source": [
    "missing_col = ['MO HLADR+ MFI (cells/ul)','Neu CD64+MFI (cells/ul)','Mono CD64+MFI (cells/ul)']\n",
    "\n",
    "for col in missing_col:\n",
    "    ### One missing row only\n",
    "    \n",
    "    filled_value = train[train['label'] == 0][col].mean()\n",
    "    \n",
    "    train[col] = train[col].fillna(filled_value)"
   ]
  },
  {
   "cell_type": "markdown",
   "id": "4f28608b-a9b0-4c51-ad24-0774e26064af",
   "metadata": {},
   "source": [
    "### Data Augmentation"
   ]
  },
  {
   "cell_type": "code",
   "execution_count": 5,
   "id": "db32b877-85d1-4f3b-b0df-06b3bd8a3062",
   "metadata": {},
   "outputs": [
    {
     "name": "stdout",
     "output_type": "stream",
     "text": [
      "(116, 12) 58\n"
     ]
    }
   ],
   "source": [
    "### The number of label==0 and label==1 is not the same,\n",
    "### Use re-sampling to get more data with positive label\n",
    "\n",
    "sm = SMOTE(random_state = 666)\n",
    "train,y = sm.fit_resample(train[[i for i in train.columns if i not in['id','label']]], train['label'])\n",
    "train['label'] = y\n",
    "print(train.shape,train['label'].sum())"
   ]
  },
  {
   "cell_type": "markdown",
   "id": "6a5ee364-c395-461d-b978-14204912eeeb",
   "metadata": {},
   "source": [
    "### Age Transformation"
   ]
  },
  {
   "cell_type": "code",
   "execution_count": 6,
   "id": "09c484e7-f4be-4625-af04-a7d26cdf8a0d",
   "metadata": {},
   "outputs": [],
   "source": [
    "def transform_age(age):\n",
    "    return age // 5\n",
    "\n",
    "train['Age'] = train['Age'].apply(transform_age)\n",
    "test['Age'] = test['Age'].apply(transform_age)"
   ]
  },
  {
   "cell_type": "markdown",
   "id": "cd699640-8cc8-466a-95d3-9bae78657802",
   "metadata": {
    "tags": []
   },
   "source": [
    "### One-Hot Encoding"
   ]
  },
  {
   "cell_type": "code",
   "execution_count": 7,
   "id": "0a9dcf31-1f0f-4bfe-976e-edff5cf49df8",
   "metadata": {},
   "outputs": [],
   "source": [
    "train['Sex 0M1F'] = train['Sex 0M1F'].astype(str)\n",
    "test['Sex 0M1F'] = test['Sex 0M1F'].astype(str)\n",
    "\n",
    "train[['IsMale','IsFemale']] = pd.get_dummies(train['Sex 0M1F'])\n",
    "test[['IsMale','IsFemale']] = pd.get_dummies(test['Sex 0M1F'])\n",
    "\n",
    "train = train.drop('Sex 0M1F',axis=1)\n",
    "test = test.drop('Sex 0M1F',axis=1)\n",
    "# pd.get_dummies(train['Age'])"
   ]
  },
  {
   "cell_type": "markdown",
   "id": "c6d7027b-e5b1-4f84-a3fb-2ce0cf95aeb9",
   "metadata": {},
   "source": [
    "### Normalization"
   ]
  },
  {
   "cell_type": "code",
   "execution_count": 8,
   "id": "80e3ef64-d76d-4a60-af93-0e729c0ed126",
   "metadata": {},
   "outputs": [],
   "source": [
    "# scaler = StandardScaler()\n",
    "scaler = MinMaxScaler()\n",
    "columns = ['MO HLADR+ MFI (cells/ul)', 'Neu CD64+MFI (cells/ul)',\n",
    "       'CD3+T (cells/ul)', 'CD8+T (cells/ul)', 'CD4+T (cells/ul)',\n",
    "       'NK (cells/ul)', 'CD19+ (cells/ul)', 'CD45+ (cells/ul)', 'Mono CD64+MFI (cells/ul)']\n",
    "\n",
    "scaler.fit(train[columns])\n",
    "\n",
    "train[columns] = scaler.transform(train[columns])\n",
    "test[columns] = scaler.transform(test[columns])"
   ]
  },
  {
   "cell_type": "code",
   "execution_count": 9,
   "id": "d6f8e5d0-ff1f-4c68-9c97-1fc143417822",
   "metadata": {},
   "outputs": [],
   "source": [
    "X_train,y_train = train[[i for i in train.columns if i not in['id','label']]],train['label']\n",
    "                        \n",
    "X_test = test[[i for i in train.columns if i not in['id','label']]]"
   ]
  },
  {
   "cell_type": "markdown",
   "id": "132c65eb-ffee-4524-bc8d-6289b08ae205",
   "metadata": {},
   "source": [
    "### Find the best model using Grid Search + Cross Validation"
   ]
  },
  {
   "cell_type": "code",
   "execution_count": 10,
   "id": "5af1bde4-0224-42c3-9d8a-eb834c3040e6",
   "metadata": {},
   "outputs": [
    {
     "data": {
      "text/plain": [
       "GridSearchCV(cv=10,\n",
       "             estimator=RandomForestClassifier(n_estimators=200,\n",
       "                                              random_state=39),\n",
       "             param_grid={'class_weight': ['balanced', 'balanced_subsample'],\n",
       "                         'criterion': ('gini', 'entropy'),\n",
       "                         'max_features': ['auto', 'sqrt', 'log2'],\n",
       "                         'min_samples_leaf': [1, 2, 5],\n",
       "                         'min_samples_split': [2, 5, 10],\n",
       "                         'oob_score': [True, False]})"
      ]
     },
     "execution_count": 10,
     "metadata": {},
     "output_type": "execute_result"
    }
   ],
   "source": [
    "# Random Forest\n",
    "parameters = {'criterion':('gini','entropy'), 'min_samples_split':[2,5,10],\n",
    "             'min_samples_leaf':[1,2,5],'max_features':[\"auto\", \"sqrt\", \"log2\"],\n",
    "             'oob_score':[True,False],'class_weight':[\"balanced\",\"balanced_subsample\"]}\n",
    "\n",
    "rf = RandomForestClassifier(200,random_state = 39)\n",
    "\n",
    "clf = GridSearchCV(rf, parameters,cv = 10)\n",
    "\n",
    "clf.fit(X_train,y_train)"
   ]
  },
  {
   "cell_type": "markdown",
   "id": "f2bfe6cc-ee11-4602-be47-49b5fa0ddd48",
   "metadata": {},
   "source": [
    "### Performance on Training data "
   ]
  },
  {
   "cell_type": "code",
   "execution_count": 11,
   "id": "0fa1f5f8-22d2-4bcf-8cac-c9ade50c465a",
   "metadata": {},
   "outputs": [
    {
     "data": {
      "text/plain": [
       "<matplotlib.legend.Legend at 0x14e5e4d00>"
      ]
     },
     "execution_count": 11,
     "metadata": {},
     "output_type": "execute_result"
    },
    {
     "data": {
      "image/png": "[encoded data removed]",
      "text/plain": [
       "<Figure size 900x600 with 1 Axes>"
      ]
     },
     "metadata": {
      "needs_background": "light"
     },
     "output_type": "display_data"
    }
   ],
   "source": [
    "score = []\n",
    "accuracy = []\n",
    "\n",
    "for threshold in np.linspace(0,1,100):\n",
    "    predicted_proba = clf.predict_proba(X_train)\n",
    "\n",
    "    y_pred = (predicted_proba [:,1] >= threshold).astype('int')\n",
    "    \n",
    "    score.append(roc_auc_score(y_train, y_pred))\n",
    "    accuracy.append(accuracy_score(y_train, y_pred))\n",
    "    \n",
    "plt.figure(figsize = [6,4],dpi = 150)\n",
    "plt.plot(np.linspace(0,1,100),score, label = 'AUC Score')\n",
    "plt.plot(np.linspace(0,1,100),accuracy,label='Accuracy')\n",
    "plt.legend()"
   ]
  },
  {
   "cell_type": "code",
   "execution_count": 12,
   "id": "108daf18-5a58-4688-8dcd-c187f83c703c",
   "metadata": {},
   "outputs": [
    {
     "name": "stdout",
     "output_type": "stream",
     "text": [
      "              precision    recall  f1-score   support\n",
      "\n",
      "           0       1.00      1.00      1.00        58\n",
      "           1       1.00      1.00      1.00        58\n",
      "\n",
      "    accuracy                           1.00       116\n",
      "   macro avg       1.00      1.00      1.00       116\n",
      "weighted avg       1.00      1.00      1.00       116\n",
      "\n"
     ]
    }
   ],
   "source": [
    "threshold = 0.5\n",
    "\n",
    "predicted_proba = clf.predict_proba(X_train)\n",
    "\n",
    "y_pred = (predicted_proba [:,1] >= threshold).astype('int')\n",
    "\n",
    "print(classification_report(y_train, y_pred))"
   ]
  },
  {
   "cell_type": "markdown",
   "id": "147e5b34-17af-45dc-ad6c-32eb33c72d7e",
   "metadata": {},
   "source": [
    "### Predict on Test Data and output submission"
   ]
  },
  {
   "cell_type": "code",
   "execution_count": 13,
   "id": "9f7b43e0-dbcc-444b-8568-6dd0643801d5",
   "metadata": {},
   "outputs": [],
   "source": [
    "predicted_proba = clf.predict_proba(X_test)\n",
    "\n",
    "prediction = (predicted_proba [:,1] >= threshold).astype('int')\n",
    "\n",
    "time_stamp = time.strftime(\"%Y-%m-%d %H:%M:%S\", time.localtime())\n",
    "\n",
    "pd.DataFrame({\"id\":range(59),\"label\":prediction}).to_csv(\"submission_\"+time_stamp+\"_.csv\",index=None)"
   ]
  },
  {
   "cell_type": "code",
   "execution_count": null,
   "id": "25c135ec-923f-4ac3-972c-b288fb3cd417",
   "metadata": {},
   "outputs": [],
   "source": []
  }
 ],
 "metadata": {
  "kernelspec": {
   "display_name": "Python 3 (ipykernel)",
   "language": "python",
   "name": "python3"
  },
  "language_info": {
   "codemirror_mode": {
    "name": "ipython",
    "version": 3
   },
   "file_extension": ".py",
   "mimetype": "text/x-python",
   "name": "python",
   "nbconvert_exporter": "python",
   "pygments_lexer": "ipython3",
   "version": "3.8.12"
  }
 },
 "nbformat": 4,
 "nbformat_minor": 5
}
